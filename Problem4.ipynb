{
  "nbformat": 4,
  "nbformat_minor": 0,
  "metadata": {
    "colab": {
      "provenance": [],
      "authorship_tag": "ABX9TyO88KB+v3npAgGkzG5ULWRC",
      "include_colab_link": true
    },
    "kernelspec": {
      "name": "python3",
      "display_name": "Python 3"
    },
    "language_info": {
      "name": "python"
    }
  },
  "cells": [
    {
      "cell_type": "markdown",
      "metadata": {
        "id": "view-in-github",
        "colab_type": "text"
      },
      "source": [
        "<a href=\"https://colab.research.google.com/github/kiwi-403/Programacion-semana-1/blob/main/Problem4.ipynb\" target=\"_parent\"><img src=\"https://colab.research.google.com/assets/colab-badge.svg\" alt=\"Open In Colab\"/></a>"
      ]
    },
    {
      "cell_type": "code",
      "execution_count": 4,
      "metadata": {
        "colab": {
          "base_uri": "https://localhost:8080/"
        },
        "id": "WtE4HXZuBirh",
        "outputId": "46cd2f34-2c3d-4f8f-a707-d0a3633dba4b"
      },
      "outputs": [
        {
          "output_type": "stream",
          "name": "stdout",
          "text": [
            "Ingreesa tu edad:19\n",
            "Eres un adulto\n"
          ]
        }
      ],
      "source": [
        "#Determinar la edad del usuario\n",
        "Edad=int(input(\"Ingreesa tu edad:\"))\n",
        "if Edad<12:\n",
        "  print(\"Eres un niño\")\n",
        "elif  12<Edad<18:\n",
        "  print(\"Eres un adolecente\")\n",
        "elif 18<Edad<60:\n",
        "  print(\"Eres un adulto\")\n",
        "elif 60<Edad<100:\n",
        "  print(\"Eres un Anciano\")\n",
        "else:\n",
        "  print(\"Nose rik, parace falso\")"
      ]
    }
  ]
}