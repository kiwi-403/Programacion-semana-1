{
  "nbformat": 4,
  "nbformat_minor": 0,
  "metadata": {
    "colab": {
      "provenance": [],
      "authorship_tag": "ABX9TyPz4+7R7QTnQnasbUAO+37O",
      "include_colab_link": true
    },
    "kernelspec": {
      "name": "python3",
      "display_name": "Python 3"
    },
    "language_info": {
      "name": "python"
    }
  },
  "cells": [
    {
      "cell_type": "markdown",
      "metadata": {
        "id": "view-in-github",
        "colab_type": "text"
      },
      "source": [
        "<a href=\"https://colab.research.google.com/github/kiwi-403/Programacion-semana-1/blob/main/Problem7.ipynb\" target=\"_parent\"><img src=\"https://colab.research.google.com/assets/colab-badge.svg\" alt=\"Open In Colab\"/></a>"
      ]
    },
    {
      "cell_type": "code",
      "execution_count": 2,
      "metadata": {
        "colab": {
          "base_uri": "https://localhost:8080/"
        },
        "id": "XU8-grLmJuRD",
        "outputId": "14f7da14-1540-4c52-8822-c062b305f83d"
      },
      "outputs": [
        {
          "output_type": "stream",
          "name": "stdout",
          "text": [
            "Ingrese su peso en kilogramos:65\n",
            "Ingrese su altura en metros:1.7\n",
            "Su IMC es de: 22.49134948096886\n",
            "Usted pertenece a la categoria:Peso Normal\n"
          ]
        }
      ],
      "source": [
        "#Calculadora de IMC\n",
        "Peso=float(input(\"Ingrese su peso en kilogramos:\"))\n",
        "Altura=float(input(\"Ingrese su altura en metros:\"))\n",
        "IMC=Peso/(Altura**(2))\n",
        "print(\"Su IMC es de:\",IMC)\n",
        "if IMC<18.5:\n",
        "  print(\"Usted pertenece a la categoria:Bajo Peso\")\n",
        "elif 18.5<IMC<24.9:\n",
        "  print(\"Usted pertenece a la categoria:Peso Normal\")\n",
        "elif 24.9<IMC<29.9:\n",
        "  print(\"Usted pertenece a la categoria:Sobrepeso\")\n",
        "else:\n",
        "  print(\"Usted pertenece a la categoria:Obesidad\")"
      ]
    }
  ]
}