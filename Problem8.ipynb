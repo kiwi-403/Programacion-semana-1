{
  "nbformat": 4,
  "nbformat_minor": 0,
  "metadata": {
    "colab": {
      "provenance": [],
      "authorship_tag": "ABX9TyOuV+hZDVQG3t1vP5hAHhZZ",
      "include_colab_link": true
    },
    "kernelspec": {
      "name": "python3",
      "display_name": "Python 3"
    },
    "language_info": {
      "name": "python"
    }
  },
  "cells": [
    {
      "cell_type": "markdown",
      "metadata": {
        "id": "view-in-github",
        "colab_type": "text"
      },
      "source": [
        "<a href=\"https://colab.research.google.com/github/kiwi-403/Programacion-semana-1/blob/main/Problem8.ipynb\" target=\"_parent\"><img src=\"https://colab.research.google.com/assets/colab-badge.svg\" alt=\"Open In Colab\"/></a>"
      ]
    },
    {
      "cell_type": "code",
      "execution_count": 2,
      "metadata": {
        "colab": {
          "base_uri": "https://localhost:8080/"
        },
        "id": "YM9ROIiUWZZv",
        "outputId": "f6dfacb1-b424-45f3-97cc-dd7c649a4a6d"
      },
      "outputs": [
        {
          "output_type": "stream",
          "name": "stdout",
          "text": [
            "Introduce un año: 34\n",
            "34 no es un año bisiesto.\n"
          ]
        }
      ],
      "source": [
        "#Calculadora de Año Bisiesto\n",
        "year = int(input(\"Introduce un año: \"))\n",
        "\n",
        "# Verificar si el año es bisiesto\n",
        "if (year % 400 == 0) or (year % 4 == 0 and year % 100 != 0):\n",
        "    print(f\"{year} es un año bisiesto.\")\n",
        "else:\n",
        "    print(f\"{year} no es un año bisiesto.\")\n"
      ]
    }
  ]
}