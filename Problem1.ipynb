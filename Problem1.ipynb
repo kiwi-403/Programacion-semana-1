{
  "nbformat": 4,
  "nbformat_minor": 0,
  "metadata": {
    "colab": {
      "provenance": [],
      "authorship_tag": "ABX9TyMKPRlo7eyDwkXUmmegvJ/I",
      "include_colab_link": true
    },
    "kernelspec": {
      "name": "python3",
      "display_name": "Python 3"
    },
    "language_info": {
      "name": "python"
    }
  },
  "cells": [
    {
      "cell_type": "markdown",
      "metadata": {
        "id": "view-in-github",
        "colab_type": "text"
      },
      "source": [
        "<a href=\"https://colab.research.google.com/github/kiwi-403/Programacion-semana-1/blob/main/Problem1.ipynb\" target=\"_parent\"><img src=\"https://colab.research.google.com/assets/colab-badge.svg\" alt=\"Open In Colab\"/></a>"
      ]
    },
    {
      "cell_type": "code",
      "source": [
        "Num1=int(input(\"Ingresa el primer numero:\"))\n",
        "Num2=int(input(\"Ingresa el segundo numero:\"))\n",
        "#Calculadora\n",
        "#Suma\n",
        "Suma=Num1+Num2\n",
        "print(\"La suma es:\",Suma)\n",
        "#Resta\n",
        "Resta=Num1-Num2\n",
        "print(\"La resta es:\",Resta)\n",
        "#Multiplicacion\n",
        "Mult=Num1*Num2\n",
        "print(\"La multiplicacion:\",Mult)\n",
        "#Division\n",
        "Div=Num1/Num2\n",
        "print(\"La division es:\",Div)\n",
        "#Division de piso\n",
        "DivP=Num1//Num2\n",
        "print(\"La division de piso es:\",DivP)\n",
        "#Division de residuo\n",
        "DivR=Num1%Num2\n",
        "print(\"La division de residuo es:\",DivR)"
      ],
      "metadata": {
        "colab": {
          "base_uri": "https://localhost:8080/"
        },
        "collapsed": true,
        "id": "sQD_3vuvBwo8",
        "outputId": "df32956a-a922-4c93-e4bb-7aebb0424be0"
      },
      "execution_count": 5,
      "outputs": [
        {
          "output_type": "stream",
          "name": "stdout",
          "text": [
            "Ingresa el primer numero:6\n",
            "Ingresa el segundo numero:2\n",
            "La suma es: 8\n",
            "La resta es: 4\n",
            "La multiplicacion: 12\n",
            "La division es: 3.0\n",
            "La division de piso es: 3\n",
            "La division de residuo es: 0\n"
          ]
        }
      ]
    }
  ]
}