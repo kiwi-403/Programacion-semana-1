{
  "nbformat": 4,
  "nbformat_minor": 0,
  "metadata": {
    "colab": {
      "provenance": [],
      "authorship_tag": "ABX9TyPJ8Gh678oAVodjKw3KNf17",
      "include_colab_link": true
    },
    "kernelspec": {
      "name": "python3",
      "display_name": "Python 3"
    },
    "language_info": {
      "name": "python"
    }
  },
  "cells": [
    {
      "cell_type": "markdown",
      "metadata": {
        "id": "view-in-github",
        "colab_type": "text"
      },
      "source": [
        "<a href=\"https://colab.research.google.com/github/kiwi-403/Programacion-semana-1/blob/main/Problem6.ipynb\" target=\"_parent\"><img src=\"https://colab.research.google.com/assets/colab-badge.svg\" alt=\"Open In Colab\"/></a>"
      ]
    },
    {
      "cell_type": "code",
      "execution_count": 2,
      "metadata": {
        "colab": {
          "base_uri": "https://localhost:8080/"
        },
        "id": "PEkNw-EmE7cv",
        "outputId": "4e8df5ea-1d0c-4479-b175-986496304df9"
      },
      "outputs": [
        {
          "output_type": "stream",
          "name": "stdout",
          "text": [
            "Ingrese los Celsius:200\n",
            "De 200.0 Celsius es equivalente a 19200.0 Fahrenheit\n",
            "De 200.0 Kelvin es equivalente a 473.15 Kelvin\n"
          ]
        }
      ],
      "source": [
        "#Conversion de Temperaturas\n",
        "Num1=float(input(\"Ingrese los Celsius:\"))\n",
        "Fahrenheit=(9/3*Num1)*+32\n",
        "print(\"De\",Num1,\"Celsius es equivalente a\",Fahrenheit,\"Fahrenheit\")\n",
        "Kelvin=Num1+273.15\n",
        "print(\"De\",Num1,\"Kelvin es equivalente a\",Kelvin,\"Kelvin\")"
      ]
    }
  ]
}