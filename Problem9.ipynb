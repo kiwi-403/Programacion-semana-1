{
  "nbformat": 4,
  "nbformat_minor": 0,
  "metadata": {
    "colab": {
      "provenance": [],
      "authorship_tag": "ABX9TyOfWgR5/i8oFkG190u1DQP3",
      "include_colab_link": true
    },
    "kernelspec": {
      "name": "python3",
      "display_name": "Python 3"
    },
    "language_info": {
      "name": "python"
    }
  },
  "cells": [
    {
      "cell_type": "markdown",
      "metadata": {
        "id": "view-in-github",
        "colab_type": "text"
      },
      "source": [
        "<a href=\"https://colab.research.google.com/github/kiwi-403/Programacion-semana-1/blob/main/Problem9.ipynb\" target=\"_parent\"><img src=\"https://colab.research.google.com/assets/colab-badge.svg\" alt=\"Open In Colab\"/></a>"
      ]
    },
    {
      "cell_type": "code",
      "source": [
        "#Calculadora de Promedio\n",
        "Prom1=float(input(\"Ingrese el primer promedio:\"))\n",
        "Prom2=float(input(\"Ingrese el segundo promedio:\"))\n",
        "Prom3=float(input(\"Ingrese el tercer promedio:\"))\n",
        "Promsum=Prom1+Prom2+Prom3\n",
        "PromFinal=Promsum/3\n",
        "print(\"El promedio final es:\",PromFinal)"
      ],
      "metadata": {
        "colab": {
          "base_uri": "https://localhost:8080/"
        },
        "id": "Er091eDWS_8C",
        "outputId": "74a848ef-bfb3-4f96-9bae-a82da9f55a81"
      },
      "execution_count": 6,
      "outputs": [
        {
          "output_type": "stream",
          "name": "stdout",
          "text": [
            "Ingrese el primer promedio:100\n",
            "Ingrese el segundo promedio:80\n",
            "Ingrese el tercer promedio:56\n",
            "El promedio final es: 78.66666666666667\n"
          ]
        }
      ]
    }
  ]
}