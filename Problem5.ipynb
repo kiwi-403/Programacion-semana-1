{
  "nbformat": 4,
  "nbformat_minor": 0,
  "metadata": {
    "colab": {
      "provenance": [],
      "authorship_tag": "ABX9TyNrp8RqJYbk7UdwpVX7UNnL",
      "include_colab_link": true
    },
    "kernelspec": {
      "name": "python3",
      "display_name": "Python 3"
    },
    "language_info": {
      "name": "python"
    }
  },
  "cells": [
    {
      "cell_type": "markdown",
      "metadata": {
        "id": "view-in-github",
        "colab_type": "text"
      },
      "source": [
        "<a href=\"https://colab.research.google.com/github/kiwi-403/Programacion-semana-1/blob/main/Problem5.ipynb\" target=\"_parent\"><img src=\"https://colab.research.google.com/assets/colab-badge.svg\" alt=\"Open In Colab\"/></a>"
      ]
    },
    {
      "cell_type": "code",
      "execution_count": 5,
      "metadata": {
        "colab": {
          "base_uri": "https://localhost:8080/"
        },
        "id": "q34AqeVUClAA",
        "outputId": "0581929b-6abd-4677-f17c-771ea7814a18"
      },
      "outputs": [
        {
          "output_type": "stream",
          "name": "stdout",
          "text": [
            "Ingresa el precio del producto:5000\n",
            "Ingresa el descuento:20\n",
            "Con un descuento de 20 % en el precio del producto, tu preficio final es de 4000.0\n"
          ]
        }
      ],
      "source": [
        "#Calculadora de Descuentos\n",
        "Producto=float(input(\"Ingresa el precio del producto:\"))\n",
        "desc=int(input(\"Ingresa el descuento:\"))\n",
        "Descuento= Producto*(desc/100)\n",
        "PrecioFinal=Producto-Descuento\n",
        "print(\"Con un descuento de\",desc,\"% en el precio del producto, tu preficio final es de\",PrecioFinal)"
      ]
    }
  ]
}