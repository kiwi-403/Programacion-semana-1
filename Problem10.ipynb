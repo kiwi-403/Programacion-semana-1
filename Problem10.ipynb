{
  "nbformat": 4,
  "nbformat_minor": 0,
  "metadata": {
    "colab": {
      "provenance": [],
      "authorship_tag": "ABX9TyNa5Fx+zENelE1Miul4B6g2",
      "include_colab_link": true
    },
    "kernelspec": {
      "name": "python3",
      "display_name": "Python 3"
    },
    "language_info": {
      "name": "python"
    }
  },
  "cells": [
    {
      "cell_type": "markdown",
      "metadata": {
        "id": "view-in-github",
        "colab_type": "text"
      },
      "source": [
        "<a href=\"https://colab.research.google.com/github/kiwi-403/Programacion-semana-1/blob/main/Problem10.ipynb\" target=\"_parent\"><img src=\"https://colab.research.google.com/assets/colab-badge.svg\" alt=\"Open In Colab\"/></a>"
      ]
    },
    {
      "cell_type": "code",
      "execution_count": 1,
      "metadata": {
        "colab": {
          "base_uri": "https://localhost:8080/"
        },
        "id": "QGzA0cC8T2P0",
        "outputId": "bf0187b2-fb15-4c37-af1a-3c5aa95a73cc"
      },
      "outputs": [
        {
          "output_type": "stream",
          "name": "stdout",
          "text": [
            "Ingrese la altura del triangulo:30\n",
            "Ingrese la base del triangulo:45\n",
            "El area del triangulo es : 675.0\n"
          ]
        }
      ],
      "source": [
        "#Calculadora de Area de un Triangula\n",
        "Altura=float(input(\"Ingrese la altura del triangulo:\"))\n",
        "Base=float(input(\"Ingrese la base del triangulo:\"))\n",
        "Area=(Base*Altura)/2\n",
        "print(\"El area del triangulo es :\",Area)"
      ]
    }
  ]
}