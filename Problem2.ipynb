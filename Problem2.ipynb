{
  "nbformat": 4,
  "nbformat_minor": 0,
  "metadata": {
    "colab": {
      "provenance": [],
      "authorship_tag": "ABX9TyNvx1TYEOSuifQxWGn1QDup",
      "include_colab_link": true
    },
    "kernelspec": {
      "name": "python3",
      "display_name": "Python 3"
    },
    "language_info": {
      "name": "python"
    }
  },
  "cells": [
    {
      "cell_type": "markdown",
      "metadata": {
        "id": "view-in-github",
        "colab_type": "text"
      },
      "source": [
        "<a href=\"https://colab.research.google.com/github/kiwi-403/Programacion-semana-1/blob/main/Problem2.ipynb\" target=\"_parent\"><img src=\"https://colab.research.google.com/assets/colab-badge.svg\" alt=\"Open In Colab\"/></a>"
      ]
    },
    {
      "cell_type": "code",
      "execution_count": 5,
      "metadata": {
        "colab": {
          "base_uri": "https://localhost:8080/"
        },
        "id": "zJwL27DM0MWH",
        "outputId": "4ab41d44-655f-40c1-f117-6b34b2e66301"
      },
      "outputs": [
        {
          "output_type": "stream",
          "name": "stdout",
          "text": [
            "Ingrese el primer numero:14\n",
            "Ingresa el segundo numero:15\n",
            "El numero 14.0 es mas pequeño que el numero 15.0\n"
          ]
        }
      ],
      "source": [
        "#Problema:Determina si el numero solicitado es mayor, menor o igual\n",
        "Num1=float(input(\"Ingrese el primer numero:\"))\n",
        "Num2=float(input(\"Ingresa el segundo numero:\"))\n",
        "if Num1>Num2:\n",
        "  print(\"El numero\",Num1,\"es mas grande que el numero\",Num2)\n",
        "elif Num1<Num2:\n",
        "  print(\"El numero\",Num1,\"es mas pequeño que el numero\",Num2)\n",
        "else:\n",
        "  print(\"Los numeros son iguales\")"
      ]
    }
  ]
}